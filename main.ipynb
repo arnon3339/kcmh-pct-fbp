{
 "cells": [
  {
   "cell_type": "markdown",
   "metadata": {},
   "source": [
    "# Filtered Back Projection"
   ]
  },
  {
   "cell_type": "markdown",
   "metadata": {},
   "source": [
    "## 1. Import libraries"
   ]
  },
  {
   "cell_type": "code",
   "execution_count": 1,
   "metadata": {},
   "outputs": [],
   "source": [
    "import numpy as np\n",
    "import pandas as pd\n",
    "import matplotlib\n",
    "import matplotlib.pyplot as plt\n",
    "import os\n",
    "from os import path\n",
    "from matplotlib import cm\n",
    "import matplotlib.pyplot as plt\n",
    "from matplotlib import font_manager\n",
    "import numpy as np\n",
    "import pandas as pd\n",
    "from mpl_toolkits.mplot3d import Axes3D\n",
    "from matplotlib.patches import Ellipse\n",
    "from matplotlib.ticker import (MultipleLocator,\n",
    "                               FormatStrFormatter,\n",
    "                               AutoMinorLocator)\n",
    "from matplotlib.lines import Line2D\n",
    "from matplotlib import ticker\n",
    "import uproot\n",
    "\n",
    "from modules import physics, utils, analyse"
   ]
  },
  {
   "cell_type": "markdown",
   "metadata": {},
   "source": [
    "## 2. Configure"
   ]
  },
  {
   "cell_type": "code",
   "execution_count": 2,
   "metadata": {},
   "outputs": [],
   "source": [
    "matplotlib.rcParams['axes.unicode_minus'] = False\n",
    "FONT_SIZE = 28\n",
    "\n",
    "plt.rcParams['font.family'] = \"Times New Roman:bold\"\n",
    "plt.rcParams['font.size'] = FONT_SIZE\n",
    "\n",
    "# Prevent math text from using a different font\n",
    "plt.rcParams['mathtext.fontset'] = 'custom'\n",
    "plt.rcParams['mathtext.rm'] = 'Times New Roman'  # Roman (serif) font\n",
    "plt.rcParams['mathtext.it'] = 'Times New Roman:italic'  # Italic font\n",
    "plt.rcParams['mathtext.bf'] = 'Times New Roman'  # Bold font\n",
    "plt.rcParams['mathtext.sf'] = 'Times New Roman'  # Sans-serif font\n",
    "plt.rcParams['mathtext.tt'] = 'Times New Roman'  # Monospace font\n",
    "\n",
    "\n",
    "OUTPUT_DIR = \"./output/\"\n",
    "DATA_DIR = \"/data/pct/sim/cpt404/eMeV_200\"\n",
    "DATA_PROTON_RANGE_DIR = \"./data/proton_ranges/\"\n",
    "ENERGY = 200 #MeV"
   ]
  },
  {
   "cell_type": "markdown",
   "metadata": {},
   "source": [
    "## 3. Gether data"
   ]
  },
  {
   "cell_type": "code",
   "execution_count": 3,
   "metadata": {},
   "outputs": [],
   "source": [
    "dirs = os.listdir(DATA_DIR)\n",
    "files = {}\n",
    "\n",
    "for d in dirs:\n",
    "    files[d] = os.listdir(path.join(DATA_DIR, d))"
   ]
  },
  {
   "cell_type": "code",
   "execution_count": null,
   "metadata": {},
   "outputs": [],
   "source": [
    "import psutil\n",
    "process = psutil.Process(os.getpid())\n",
    "with uproot.open(path.join(DATA_DIR, list(files.keys())[0],\n",
    "                           files[list(files.keys())[0]][0])) as f:\n",
    "    tree = f['pCT;1']\n",
    "    df = tree.arrays(library='pd')\n",
    "    utils.add_angle_data(df, int(list(files.keys())[0].split('_')[-1]))\n",
    "    pct_data = analyse.get_pct_data(df, en=200)\n",
    "    memory_usage = process.memory_info().rss  # Resident Set Size\n",
    "    print(f\"Memory Usage: {memory_usage / (1024 ** 2):.2f} MB\")"
   ]
  },
  {
   "cell_type": "code",
   "execution_count": null,
   "metadata": {},
   "outputs": [],
   "source": []
  }
 ],
 "metadata": {
  "kernelspec": {
   "display_name": "physics",
   "language": "python",
   "name": "python3"
  },
  "language_info": {
   "codemirror_mode": {
    "name": "ipython",
    "version": 3
   },
   "file_extension": ".py",
   "mimetype": "text/x-python",
   "name": "python",
   "nbconvert_exporter": "python",
   "pygments_lexer": "ipython3",
   "version": "3.12.3"
  }
 },
 "nbformat": 4,
 "nbformat_minor": 2
}
